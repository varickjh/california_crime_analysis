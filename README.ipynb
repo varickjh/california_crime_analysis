{
 "cells": [
  {
   "cell_type": "markdown",
   "metadata": {},
   "source": [
    "# California Crime and Law Enforcement Data Analysis\n",
    "This project aims to analyze the **law enforcement employment rates, crime rates, and their relation** in the **cities of California** in **2015**. \n",
    "In this project I have utilized datasets from Kaggle:\n",
    "- [Kaggle Datasets](https://www.kaggle.com/datasets/fbi-us/california-crime?select=ca_law_enforcement_by_city.csv)\n",
    "\n",
    "The original datasets can be found in the [FBI UCR Website](https://ucr.fbi.gov/crime-in-the-u.s/2015/crime-in-the-u.s.-2015).\n",
    "### Aim & Outcomes\n",
    "1. Which California agencies, cities, counties have a higher number of reported crimes?\n",
    "2. What are the most frequent crimes in the most dangerous agency, city, & county?\n",
    "3. What are the most common types of crimes in California? \n",
    "4. How does the number of law enforcement officers compare to the crime rates of a particular area? Is the ratio similar throughout the state, or do certain campuses, counties, or cities have a differing rate?\n",
    "5. What other factors may affect crime rates of a particular area? How significant are their impacts?\n",
    "\n",
    "### Table of Contents\n",
    "1. **Part 1:** Installing & Importing Necessary Python Libraries\n",
    "2. **Part 2:** Reading & Exploring Data\n",
    "3. **Part 3:** Data Cleaning + Preprocessing\n",
    "4. **Part 4:** Data Analysis + Visualization\n",
    "5. **2015 California Crime and Law Enforcement Data Analysis Final Results** "
   ]
  }
 ],
 "metadata": {
  "language_info": {
   "name": "python"
  }
 },
 "nbformat": 4,
 "nbformat_minor": 2
}
